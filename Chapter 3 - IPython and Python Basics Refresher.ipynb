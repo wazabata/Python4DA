{
 "cells": [
  {
   "cell_type": "code",
   "execution_count": 18,
   "metadata": {
    "collapsed": false
   },
   "outputs": [],
   "source": [
    "# Import modules\n",
    "import numpy"
   ]
  },
  {
   "cell_type": "code",
   "execution_count": 21,
   "metadata": {
    "collapsed": false
   },
   "outputs": [],
   "source": [
    "## Functions, docstrings and introspection\n",
    "def add_numbers(a,b):\n",
    "    \"\"\"\"\n",
    "    Add two numbers together\n",
    "    \n",
    "    Returns\n",
    "    -------\n",
    "    the_sum: Type of arg\n",
    "    \"\"\"\n",
    "    \n",
    "    return(a+b)\n",
    "\n",
    "# ?add_numbers ## ? before object -> Introspection - shows the docstring\n",
    "# ??add_numbers ## ?? before object -> shows source code (if function or instance method)\n",
    "\n",
    "## Another use for ? - wildcard e.g. finding possible functions\n",
    "# np.*load*? "
   ]
  },
  {
   "cell_type": "code",
   "execution_count": 37,
   "metadata": {
    "collapsed": false
   },
   "outputs": [
    {
     "name": "stdout",
     "output_type": "stream",
     "text": [
      "[1, 2, 3, 4]\n",
      "True\n",
      "False\n",
      "True\n"
     ]
    }
   ],
   "source": [
    "## Quick test - variable assignment \n",
    "def test_append(some_list, element):\n",
    "    some_list.append(element)\n",
    "    \n",
    "data = [1,2,3]\n",
    "test_append(data, 4)\n",
    "print(data) \n",
    "\n",
    "\n",
    "## Checking if vars refer to the same object \n",
    "a = [1,2,3] \n",
    "b = a \n",
    "c = list(a)\n",
    "\n",
    "print(b is a) # True \n",
    "print(c is a) # False \n",
    "print(a == c) # True"
   ]
  },
  {
   "cell_type": "code",
   "execution_count": 28,
   "metadata": {
    "collapsed": false
   },
   "outputs": [
    {
     "ename": "TypeError",
     "evalue": "getattr expected at least 2 arguments, got 1",
     "output_type": "error",
     "traceback": [
      "\u001b[0;31m---------------------------------------------------------------------------\u001b[0m",
      "\u001b[0;31mTypeError\u001b[0m                                 Traceback (most recent call last)",
      "\u001b[0;32m<ipython-input-28-d36f37945e57>\u001b[0m in \u001b[0;36m<module>\u001b[0;34m()\u001b[0m\n\u001b[1;32m      1\u001b[0m \u001b[0;31m## Getting access to an object's attributes\u001b[0m\u001b[0;34m\u001b[0m\u001b[0;34m\u001b[0m\u001b[0m\n\u001b[1;32m      2\u001b[0m \u001b[0ma\u001b[0m \u001b[0;34m=\u001b[0m \u001b[0;34m'foo'\u001b[0m\u001b[0;34m\u001b[0m\u001b[0m\n\u001b[0;32m----> 3\u001b[0;31m \u001b[0mgetattr\u001b[0m\u001b[0;34m(\u001b[0m\u001b[0ma\u001b[0m\u001b[0;34m)\u001b[0m\u001b[0;34m\u001b[0m\u001b[0m\n\u001b[0m",
      "\u001b[0;31mTypeError\u001b[0m: getattr expected at least 2 arguments, got 1"
     ]
    }
   ],
   "source": [
    "## Getting access to an object's attributes\n",
    "a = 'foo' ## Then just a.<Press Tab>  \n",
    "\n",
    "## @note on attributes vs. methods \n",
    "## Attributes are other Python objects stored inside of the object\n",
    "## Methods are functions that have access to internal data of object "
   ]
  },
  {
   "cell_type": "code",
   "execution_count": 31,
   "metadata": {
    "collapsed": false
   },
   "outputs": [
    {
     "data": {
      "text/plain": [
       "False"
      ]
     },
     "execution_count": 31,
     "metadata": {},
     "output_type": "execute_result"
    }
   ],
   "source": [
    "## Duck Typing - Or how to check if an object has a certain function or behavior \n",
    "## If it walks and quacks like a duck, then it's a duck \n",
    "\n",
    "def isiterable(obj):\n",
    "    try:\n",
    "        iter(obj)\n",
    "        return True\n",
    "    except TypeError:\n",
    "        return False\n",
    "    \n",
    "isiterable([1,2,3]) # True \n",
    "isiterable('a') # True \n",
    "isiterable(5) # False\n",
    "\n"
   ]
  }
 ],
 "metadata": {
  "kernelspec": {
   "display_name": "Python 3",
   "language": "python",
   "name": "python3"
  },
  "language_info": {
   "codemirror_mode": {
    "name": "ipython",
    "version": 3
   },
   "file_extension": ".py",
   "mimetype": "text/x-python",
   "name": "python",
   "nbconvert_exporter": "python",
   "pygments_lexer": "ipython3",
   "version": "3.5.2"
  }
 },
 "nbformat": 4,
 "nbformat_minor": 0
}
