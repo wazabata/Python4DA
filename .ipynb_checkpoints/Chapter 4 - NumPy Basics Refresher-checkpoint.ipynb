{
 "cells": [
  {
   "cell_type": "code",
   "execution_count": 2,
   "metadata": {
    "collapsed": true
   },
   "outputs": [],
   "source": [
    "import numpy as np "
   ]
  },
  {
   "cell_type": "code",
   "execution_count": 12,
   "metadata": {
    "collapsed": false
   },
   "outputs": [
    {
     "name": "stdout",
     "output_type": "stream",
     "text": [
      "CPU times: user 21.5 ms, sys: 14.9 ms, total: 36.4 ms\n",
      "Wall time: 38.9 ms\n",
      "CPU times: user 230 ms, sys: 40.2 ms, total: 270 ms\n",
      "Wall time: 273 ms\n"
     ]
    }
   ],
   "source": [
    "## Test of numpy speed vs. regular list \n",
    "np_arr = np.arange(1000000)\n",
    "reg_list = list(range(0,1000000))\n",
    "\n",
    "## %time diff. for a simple operation\n",
    "%time for _ in range(10): np_arr2 = np_arr * 2 # 38.9 ms\n",
    "%time for _ in range(10): reg_list2 = reg_list * 2 # 273 ms"
   ]
  },
  {
   "cell_type": "markdown",
   "metadata": {},
   "source": [
    "## 4.1 ndarrary: Numpy's multidimensional array object"
   ]
  },
  {
   "cell_type": "code",
   "execution_count": 49,
   "metadata": {
    "collapsed": false
   },
   "outputs": [
    {
     "name": "stdout",
     "output_type": "stream",
     "text": [
      "arr1: [1 2 3]\n",
      "arr2: [[1 2 3]\n",
      " [4 5 6]]\n",
      "\n",
      " *Zeros  [ 0.  0.] \n",
      " *Ones  [[ 1.  1.  1.]\n",
      " [ 1.  1.  1.]] \n",
      " *Empty  [[ 0.  0.]] \n",
      " *Ones like  [ 1.  1.]\n",
      "\n",
      " *Higher Dim [[[ 0.  0.]\n",
      "  [ 0.  0.]]\n",
      "\n",
      " [[ 0.  0.]\n",
      "  [ 0.  0.]]]\n",
      "\n",
      "Casting Example:\n",
      "int64\n",
      "[[ 1.  2.]\n",
      " [ 3.  4.]]\n"
     ]
    }
   ],
   "source": [
    "## Init an ndarray with 3 rows, 2 columns \n",
    "test_ndarray = np.random.randn(2,3)\n",
    "\n",
    "## Some attributes of an ndarray object \n",
    "test_ndarray.shape # Returns tuple - (2,3)\n",
    "test_ndarray.dtype # float64\n",
    "\n",
    "## The many ways to create an ndarray object\n",
    "\n",
    "## 1) Using lists\n",
    "arr1 = np.array([1,2,3])\n",
    "\n",
    "## 2) Nested sequences, i.e. list of lists (of equal length)\n",
    "arr2 = np.array([[1,2,3],[4,5,6]])\n",
    "\n",
    "print(\"arr1:\", arr1)\n",
    "print(\"arr2:\", arr2)\n",
    "\n",
    "## 3) Filling the array with 1s, 0s, empty (no vals)\n",
    "zeros = np.zeros(2)\n",
    "ones = np.ones([2,3]) \n",
    "empty_array = np.empty([1,2])\n",
    "\n",
    "## What if want to create array of same size / dtype as an array that already exists, but all 1 -> ones_like()\n",
    "ones_like = np.ones_like(zeros) # Should be vector of length 2 s\n",
    "\n",
    "print(\"\\n *Zeros \",zeros, \"\\n *Ones \", ones, \"\\n *Empty \", empty_array,\n",
    "     \"\\n *Ones like \", ones_like) \n",
    "\n",
    "## 4) Higher dimensional ndarrays\n",
    "higher_dim_array = np.zeros((2,2,2)) # @note: Using a tuple\n",
    "higher_dim_array2 = np.zeros([2,2,2]) #    This also works though \n",
    "print(\"\\n *Higher Dim\", higher_dim_array)\n",
    "\n",
    "np.alltrue(np.equal(higher_dim_array, higher_dim_array2)) ## Probably a much better way of doing this  s\n",
    "\n",
    "\n",
    "## Quick example of casting: \n",
    "print(\"\\nCasting Example:\")\n",
    "float_array = np.array([[1,2],[3,4]], dtype= int)\n",
    "print(float_array.dtype)\n",
    "print(float_array.astype(np.float64)) # Now float\n",
    "\n"
   ]
  },
  {
   "cell_type": "markdown",
   "metadata": {},
   "source": [
    "### Basic Slicing and Indexing "
   ]
  },
  {
   "cell_type": "code",
   "execution_count": 92,
   "metadata": {
    "collapsed": false
   },
   "outputs": [
    {
     "name": "stdout",
     "output_type": "stream",
     "text": [
      "arr_slice:  [  11   12 -259   14   15]\n",
      "arr:  [   1    2    3    4    5    6    7    8    9   10   11   12 -259   14   15\n",
      "   16   17   18   19]\n",
      "lis_slice:  [11, 12, -259, 14, 15]\n",
      "lis:  [1, 2, 3, 4, 5, 6, 7, 8, 9, 10, 11, 12, 13, 14, 15, 16, 17, 18, 19]\n",
      "[-259 -259 -259 -259 -259]\n",
      "arr (should not be modified): [   1    2    3    4    5    6    7    8    9   10 -259 -259 -259 -259 -259\n",
      "   16   17   18   19]\n",
      "\n",
      "\n",
      "Multidim arrays\n",
      "2\n",
      "2\n",
      "[1 2 3]\n",
      "[[ 1  2  3]\n",
      " [ 4  5  6]\n",
      " [12 13 14]]\n",
      "[[1 2 3]\n",
      " [4 5 6]]\n",
      "[[ 1  2]\n",
      " [ 4  5]\n",
      " [12 13]]\n"
     ]
    }
   ],
   "source": [
    "## @note: Array slices are VIEWS of the original array \n",
    "##        any modification to a slice will be reflected in the original array, e.g.\n",
    "arr = np.arange(1,20)\n",
    "arr_slice = arr[10:15]\n",
    "arr_slice[2] = -259\n",
    "print('arr_slice: ', arr_slice)\n",
    "print('arr: ', arr)\n",
    "\n",
    "## Do the same with list - will find that object slice has been copied \n",
    "lis = list(np.arange(1,20))\n",
    "lis_slice = lis[10:15]\n",
    "lis_slice[2] = -259\n",
    "print('lis_slice: ', lis_slice) # Slice has been copied - not referencing same object\n",
    "print('lis: ', lis)\n",
    "\n",
    "## Why? To avoid copying large ndarray objects\n",
    "\n",
    "## What about want to change all values in slice\n",
    "## --> use \"bare\" slice\n",
    "arr_slice[:] = -259\n",
    "print(arr_slice)\n",
    "\n",
    "## To explicitely copy a slice - use copy()\n",
    "arr_slice2 = arr[10:15].copy()\n",
    "arr_slice2[:] = -999999\n",
    "print(\"arr (should not be modified):\" ,arr)\n",
    "\n",
    "## Accessing multidimensional arrays \n",
    "print(\"\\n\\nMultidim arrays\")\n",
    "arr2d = np.array([[1,2,3],[4,5,6],[12,13,14]])\n",
    "## The below two are equivalent\n",
    "print(arr2d[0][1])\n",
    "print(arr2d[0,1])\n",
    "\n",
    "## What if want 2nd row (all cols) -> omit later index \n",
    "print(arr2d[0])\n",
    "\n",
    "## Slicing 2d arrays\n",
    "## e.g. select the first 2 rows of arr2d \n",
    "print(arr2d)\n",
    "print(arr2d[:2])\n",
    "## select first 2 col of arr2d - @note colon ':' takes entire corresponding axis\n",
    "print(arr2d[:,:2]) # Have to specify 'earlier' indices"
   ]
  },
  {
   "cell_type": "markdown",
   "metadata": {},
   "source": [
    "### Boolean Indexing "
   ]
  },
  {
   "cell_type": "code",
   "execution_count": 109,
   "metadata": {
    "collapsed": false
   },
   "outputs": [
    {
     "name": "stdout",
     "output_type": "stream",
     "text": [
      "[[ 1.96700433 -0.2332836 ]\n",
      " [ 1.25277127  0.56085311]\n",
      " [ 0.64645504  1.80796221]\n",
      " [ 0.72722977 -0.19207564]\n",
      " [-0.43976158  0.49817731]]\n",
      "Boolean Indexing:  [[ 1.96700433 -0.2332836 ]\n",
      " [ 0.64645504  1.80796221]]\n",
      "5\n",
      "5\n"
     ]
    }
   ],
   "source": [
    "## Have names in an array and 2d array \n",
    "## Use boolean indexing to select rows that 'match' name Bob in 1st array \n",
    "names = np.array(['Bob', 'John', 'Bob', 'Calypso', 'Amo'])\n",
    "arr2d = np.random.randn(5,2)\n",
    "\n",
    "print(arr2d)\n",
    "print(\"Boolean Indexing: \",arr2d[names == 'Bob',:])\n",
    "\n",
    "## @important @note - Important to make sure boolean array is the same length as axis that is being indexed\n",
    "## Check: \n",
    "print(len(arr2d[:,0])) # Selecting 1st col as example\n",
    "print(len(names == 'Bob'))\n",
    "\n",
    "\n"
   ]
  },
  {
   "cell_type": "code",
   "execution_count": null,
   "metadata": {
    "collapsed": true
   },
   "outputs": [],
   "source": []
  }
 ],
 "metadata": {
  "kernelspec": {
   "display_name": "Python 3",
   "language": "python",
   "name": "python3"
  },
  "language_info": {
   "codemirror_mode": {
    "name": "ipython",
    "version": 3
   },
   "file_extension": ".py",
   "mimetype": "text/x-python",
   "name": "python",
   "nbconvert_exporter": "python",
   "pygments_lexer": "ipython3",
   "version": "3.5.2"
  }
 },
 "nbformat": 4,
 "nbformat_minor": 0
}
