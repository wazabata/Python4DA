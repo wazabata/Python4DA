{
 "cells": [
  {
   "cell_type": "code",
   "execution_count": 10,
   "metadata": {
    "collapsed": true
   },
   "outputs": [],
   "source": [
    "import pandas as pd \n",
    "import numpy as np"
   ]
  },
  {
   "cell_type": "markdown",
   "metadata": {},
   "source": [
    "## Pandas Data Structures "
   ]
  },
  {
   "cell_type": "code",
   "execution_count": 50,
   "metadata": {},
   "outputs": [
    {
     "data": {
      "text/plain": [
       "CA    100\n",
       "CO    150\n",
       "Name: 2000, dtype: int64"
      ]
     },
     "execution_count": 50,
     "metadata": {},
     "output_type": "execute_result"
    }
   ],
   "source": [
    "## Series \n",
    "ser1 = pd.Series(['x1', 'x2', 'x3']) # By default, index is 0 to N-1 \n",
    "## Can change index \n",
    "ind = ['a', 'b', 'c']\n",
    "ser2 =  pd.Series(['x1', 'x2', 'x3'], index=ind)\n",
    "\n",
    "## Unlike numpy array, can select entries using index \n",
    "ser2['a']\n",
    "## Now, with numpy array: \n",
    "nump1 = np.array([1,2,3]) # No index, obviously \n",
    "\n",
    "## Can think of a series as an ordered dict of fixed length, with index == key and values \n",
    "ser3 = {'a':1, 'b':2}\n",
    "\n",
    "sdata = {'Ohio': 35000, 'Texas': 71000, 'Oregon': 16000, 'Utah': 5000}\n",
    "states = ['California', 'Ohio', 'Oregon', 'Texas']\n",
    "ser4 = pd.Series(sdata, index = states) # California is going to have NaN value \n",
    "ser4 + pd.Series({'Ohio': -35000, 'Texas': -71000, 'Oregon': -16000, 'Utah': -5000}) # Align series by index! \n",
    "\n",
    "## Getting index, naming index 'col' and value 'col'\n",
    "ser4.index\n",
    "ser4.values\n",
    "ser4.name = 'pop'; ser4.index.name = 'state'\n",
    "\n",
    "\n",
    "## Dataframe \n",
    "## @note THink of as dict of series sharing the same indices \n",
    "## Can create a data frame with either a) dict of equal length lists or b) nested dicts \n",
    "## a) \n",
    "dict1 = pd.DataFrame({\"CO\":[300,200,150],\n",
    "                     \"CA\": [100, 200,300]}, index = [2000,2001,2002])\n",
    "dict1.columns.name = \"State\"\n",
    "dict1.index.name = \"Year\"\n",
    "## b) @note outer keys are columns, inner keys correspond to df's indices\n",
    "dict2 = pd.DataFrame({\"CA\": {\"2000\": 100,\n",
    "                              \"2001\": 200},\n",
    "                     \"CO\": {\"2000\": 150,\n",
    "                              \"2001\": 250}})\n",
    "\n",
    "## To get cols \n",
    "dict2[\"CA\"]\n",
    "## To get rows: \n",
    "dict2.loc[\"2000\"] ## More on row indexing later.. \n",
    "\n",
    "\n"
   ]
  },
  {
   "cell_type": "markdown",
   "metadata": {},
   "source": [
    "## Essential Functionalities"
   ]
  },
  {
   "cell_type": "code",
   "execution_count": 146,
   "metadata": {},
   "outputs": [
    {
     "name": "stdout",
     "output_type": "stream",
     "text": [
      "               b         d         e\n",
      "Utah   -0.843499  0.101592 -1.735070\n",
      "Ohio   -0.777616  0.319189 -0.553669\n",
      "Texas   0.003353  2.263836 -0.171703\n",
      "Oregon  0.803797  0.701730 -0.166434\n"
     ]
    },
    {
     "data": {
      "text/html": [
       "<div>\n",
       "<style>\n",
       "    .dataframe thead tr:only-child th {\n",
       "        text-align: right;\n",
       "    }\n",
       "\n",
       "    .dataframe thead th {\n",
       "        text-align: left;\n",
       "    }\n",
       "\n",
       "    .dataframe tbody tr th {\n",
       "        vertical-align: top;\n",
       "    }\n",
       "</style>\n",
       "<table border=\"1\" class=\"dataframe\">\n",
       "  <thead>\n",
       "    <tr style=\"text-align: right;\">\n",
       "      <th></th>\n",
       "      <th>b</th>\n",
       "      <th>d</th>\n",
       "      <th>e</th>\n",
       "    </tr>\n",
       "  </thead>\n",
       "  <tbody>\n",
       "    <tr>\n",
       "      <th>Utah</th>\n",
       "      <td>2.0</td>\n",
       "      <td>3.0</td>\n",
       "      <td>1.0</td>\n",
       "    </tr>\n",
       "    <tr>\n",
       "      <th>Ohio</th>\n",
       "      <td>1.0</td>\n",
       "      <td>3.0</td>\n",
       "      <td>2.0</td>\n",
       "    </tr>\n",
       "    <tr>\n",
       "      <th>Texas</th>\n",
       "      <td>2.0</td>\n",
       "      <td>3.0</td>\n",
       "      <td>1.0</td>\n",
       "    </tr>\n",
       "    <tr>\n",
       "      <th>Oregon</th>\n",
       "      <td>3.0</td>\n",
       "      <td>2.0</td>\n",
       "      <td>1.0</td>\n",
       "    </tr>\n",
       "  </tbody>\n",
       "</table>\n",
       "</div>"
      ],
      "text/plain": [
       "          b    d    e\n",
       "Utah    2.0  3.0  1.0\n",
       "Ohio    1.0  3.0  2.0\n",
       "Texas   2.0  3.0  1.0\n",
       "Oregon  3.0  2.0  1.0"
      ]
     },
     "execution_count": 146,
     "metadata": {},
     "output_type": "execute_result"
    }
   ],
   "source": [
    "## Reindexing \n",
    "## reindexing rows, columns and using loc() for label-indexing\n",
    "reindex = pd.Series({\"a\": 1, \"b\":2, \"c\":3})\n",
    "reindex.reindex([\"b\", \"c\", \"a\", \"d\"]) # Switch order of rows, and adds another one with nan (d not in og series)\n",
    "\n",
    "reindex = pd.DataFrame({\"a\":[1,2,3], \"b\":[3,4,5]}, index = ['x1','x2','x3'])\n",
    "reindex.reindex(columns = [\"b\", \"a\"]) # @note - not with axis = 1 or 0 \n",
    "reindex.loc[['x2','x3'], ['b', 'a']] # Straight indexing syntax \n",
    "\n",
    "\n",
    "## Dropping entries from axis \n",
    "## Dropping from row labels vs. cols - inplace dropping vs. not in place \n",
    "reindex.drop('x1') # Drops the x1 row \n",
    "reindex.drop('a', axis=1) # Drops the 'a' col \n",
    "## inplace = True argument to drop in place\n",
    "\n",
    "## Indexing, Selection and Filtering \n",
    "## Just like numpy array, instead can use labels vs. just integers\n",
    "reindex.loc['x2':'x3', 'a']\n",
    "reindex['a'] #reindex[['a', 'c']] Will fail, there is no c column \n",
    "\n",
    "data = pd.DataFrame(np.arange(16).reshape((4, 4)),\n",
    "                     index=['Ohio', 'Colorado', 'Utah', 'New York'],\n",
    "                     columns=['one', 'two', 'three', 'four'])\n",
    "data[data['three'] > 5]\n",
    "    \n",
    "## Selection with loc vs. iloc @important \n",
    "## @note: loc == label indexing and iloc == integer indexing \n",
    "data.loc[['Ohio','Colorado'], 'one'] # @note can't do .loc[[\"OH\":\"CO\"]]\n",
    "data.iloc[[0,1],0] \n",
    "\n",
    "## Integer indexing \n",
    "## If index contains integers, data selection will be label oriented. Otherwise, it will be integer oriented\n",
    "test = pd.Series([1,2,3], index = range(4,7))\n",
    "# test[1] # Will fail, there is no index numbered 1. Instead, use iloc: \n",
    "test.iloc[1]\n",
    "\n",
    "## Will work if labels don't have ints, example: \n",
    "test = pd.Series([1,2,3], index = ['a', 'b', 'c'])\n",
    "test[2] # Will return last value, 3\n",
    "\n",
    "## Function application and mapping \n",
    "frame = pd.DataFrame(np.random.randn(4, 3), columns=list('bde'),\n",
    "                     index=['Utah', 'Ohio', 'Texas', 'Oregon'])\n",
    "## Apply a function to each row / col \n",
    "## Ex. of calculating max - min \n",
    "frame.apply(lambda x: x.max() - x.min(), axis = 1) # Per row / Accross the columns\n",
    "\n",
    "## Can also return multiple values \n",
    "def f(x):\n",
    "    return pd.Series([min(x), max(x)], index = ['min', 'max'])\n",
    "# frame.apply(lambda x: f(x),axis = 1) # Not the best way to wrte this - or even the right way\n",
    "frame.apply(f,axis = 1) # Just apply the function\n",
    "\n",
    "\n",
    "## Sorting and Ranking \n",
    "## sort_index and sort_value functions\n",
    "print(frame)\n",
    "frame.sort_index(ascending=False)\n",
    "frame.sort_values(by = 'b', ascending = False)\n",
    "frame.rank(method = 'first', axis = 1)\n",
    "    \n"
   ]
  }
 ],
 "metadata": {
  "kernelspec": {
   "display_name": "Python 3",
   "language": "python",
   "name": "python3"
  },
  "language_info": {
   "codemirror_mode": {
    "name": "ipython",
    "version": 3
   },
   "file_extension": ".py",
   "mimetype": "text/x-python",
   "name": "python",
   "nbconvert_exporter": "python",
   "pygments_lexer": "ipython3",
   "version": "3.6.2"
  }
 },
 "nbformat": 4,
 "nbformat_minor": 2
}
