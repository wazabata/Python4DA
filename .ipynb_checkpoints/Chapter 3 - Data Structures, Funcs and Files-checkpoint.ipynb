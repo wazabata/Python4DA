{
 "cells": [
  {
   "cell_type": "markdown",
   "metadata": {},
   "source": [
    "## Data Structures and Sequences"
   ]
  },
  {
   "cell_type": "code",
   "execution_count": 75,
   "metadata": {},
   "outputs": [
    {
     "name": "stdout",
     "output_type": "stream",
     "text": [
      "Tups\n",
      "a = 1, b = 2, c = 3\n",
      "a = 4, b = 5, c = 6\n",
      "a = 7, b = 8, c = 9\n",
      "a,b: 1 [2, 3, 4]\n",
      "*rest 4 a True\n",
      "Lists\n",
      "List after remove func: [1, 5, 'a']\n"
     ]
    }
   ],
   "source": [
    "## Tuples \n",
    "## Immutable, fixed length sequence of Python objects\n",
    "## Enclosed in parentheses \n",
    "print(\"Tups\")\n",
    "tup = (3,4)\n",
    "tup_of_tups = ((3,4),(2,3,4)) \n",
    "converted_tup_from_list = tuple([1,2,3])\n",
    "\n",
    "## Tuples immutable, but can modify mutable objects within tuple (in place)\n",
    "tup = (1, [1,2,3], \"a\")\n",
    "tup[1].append(429) #Output: (1, [1, 2, 3, 429], 'a')\n",
    "\n",
    "## Concatenating tuples with '+' and extending tuples with '*'\n",
    "(1,2,3) + ('a', 'c') * 3\n",
    "\n",
    "## Example of unpacking tuple \n",
    "seq = [(1,2,3), (4,5,6), (7,8,9)]\n",
    "for a,b,c in seq:\n",
    "    print(\"a = {0}, b = {1}, c = {2}\".format(a,b,c))\n",
    "    \n",
    "    \n",
    "## What if want to unpack a set of values, but then store everything sep. (and maybe throw out?)\n",
    "tup = (1,[2,3,4], 4, \"a\", True)\n",
    "a,b,*rest = tup # @note: nothing special with 'rest', can be called *_ - just use \"*\" wildcard \n",
    "print(\"a,b:\",a,b) \n",
    "print(\"*rest\",*rest)\n",
    "\n",
    "## Lists \n",
    "## can init with list or [] brackets \n",
    "## list() can be used to materialize an iterator \n",
    "list(range(10))\n",
    "\n",
    "## Inserting elements - with append / or insert \n",
    "## Removing elements, by index with pop or by value using remove \n",
    "print(\"Lists\")\n",
    "lis = [1,5,\"a\", 32, \"a\"]\n",
    "list.pop(lis, 3) ## 32\n",
    "lis # element 32 removed \n",
    "lis.remove(\"a\")\n",
    "print(\"List after remove func:\", lis)\n",
    "\n",
    "## Searching for object in list with 'in' or 'not int' \n",
    "## @note: Slower than using dic -> search is sequential vs done in constant time (using hash table in dict)\n",
    "1 in lis\n",
    "\n",
    "## Sorting \n",
    "## can add argument, say to sort by length \n",
    "lis = ['abc', 'a', 'dbef', 'z']\n",
    "# lis = [1,5,6,3,29,100,3,4]\n",
    "lis.sort(key = len); lis\n",
    "\n",
    "## Some slicing \n",
    "lis = list(range(15))\n",
    "lis[:3] # Up to 3rd object\n",
    "lis[10:] # Starting from 10th object\n",
    "lis[-10:] # From 10th last object to end \n",
    "lis[:-13] # Up to 13th last object (15 elements, so just 0 and 1)"
   ]
  },
  {
   "cell_type": "markdown",
   "metadata": {},
   "source": [
    "## Built in sequence functions \n",
    "\n"
   ]
  },
  {
   "cell_type": "code",
   "execution_count": 40,
   "metadata": {},
   "outputs": [
    {
     "name": "stdout",
     "output_type": "stream",
     "text": [
      "Zippin:\n",
      "index 0, values 1 and a\n",
      "index 1, values 2 and b\n",
      "index 2, values 3 and c\n",
      "Alternatively:\n",
      "index 0, values 1 and a\n",
      "index 1, values 2 and b\n",
      "index 2, values 3 and c\n",
      "Unzipped first name: ('E', 'R')\n",
      "Unzipped last name: ('H', 'S')\n",
      "\n",
      "Dicts\n"
     ]
    },
    {
     "data": {
      "text/plain": [
       "{'a': 0, 'abc': 2, 'def': 3, 'zzz': 4}"
      ]
     },
     "execution_count": 40,
     "metadata": {},
     "output_type": "execute_result"
    }
   ],
   "source": [
    "## Indexing data with enumerate \n",
    "import random \n",
    "lis = [random.randint(0,1765) for _ in range(50)]\n",
    "index_map = {}\n",
    "for i, value in enumerate(lis):\n",
    "    index_map[value] = i\n",
    "    \n",
    "## sorted() \n",
    "## returns sorted element of any sequence \n",
    "sorted([1,5,23,2])\n",
    "sorted([\"Le cheval\", \"zzz\", \"Salut\"])\n",
    "sorted(\"Le cheval zzz salut\") # Sorts the characters\n",
    "\n",
    "## zip \n",
    "## combine two (or more) sequences to create a list of tuples \n",
    "print(\"Zippin:\")\n",
    "seq1 = [1,2,3]\n",
    "seq2 = [\"a\", \"b\", \"c\"]\n",
    "zipped = list(zip(seq1, seq2))\n",
    "zipped ## @question book indicates that no need to wrap with list. Is zip a generator? \n",
    "\n",
    "## If have sequences of different lenth, will use shortest length \n",
    "seq3 = [True] # @note: Even if object of length 1, must be in array to support iteration\n",
    "list(zip(seq1, seq2, seq3))\n",
    "\n",
    "## Can use with enumerate to go over pairs in sequences\n",
    "for i,v in enumerate(list(zip(seq1, seq2))):\n",
    "    print(\"index {0}, values {1} and {2}\".format(i, v[0], v[1]))\n",
    "    \n",
    "## Alternatively! \n",
    "print(\"Alternatively:\")\n",
    "for i, (a, b) in enumerate(zip(seq1, seq2)): # @important: not \"for i, a, b\" !! \n",
    "    print(\"index {0}, values {1} and {2}\".format(i, a, b))\n",
    "\n",
    "## How about unzipping? Use following syntax: \n",
    "seq = [[\"E\", \"H\"], [\"R\", \"S\"]]\n",
    "first_name, last_name = zip(*seq) \n",
    "print(\"Unzipped first name:\", first_name)\n",
    "print(\"Unzipped last name:\", last_name)\n",
    "    \n",
    "## reversed \n",
    "## Also a generator - need a list to materialize: \n",
    "reversed(range(10)) # <range_iterator at 0x10ba6ef00>\n",
    "list(reversed(range(10))) # [9, 8, 7, 6, 5, 4, 3, 2, 1, 0]\n",
    "\n",
    "\n",
    "## dicts - collection of key value pairs \n",
    "## Creating dicts, adding values, deleting entries, listing keys / values and updating dicts\n",
    "print(\"\\nDicts\")\n",
    "dict1 = {'a': 1, 'b': [1,2,3,4]}\n",
    "dict1['c'] = 32\n",
    "'c' in dict1 # Checking if value in dict same as for list \n",
    "del dict1['a'] # Deletes the entry corresponding to 'a' key in place \n",
    "ret = dict1.pop('b') # Now only 'c' entry in dict \n",
    "dict1.update({1: 25, 2:322}) # Update dict1 with new dict - update <=> appending here\n",
    "list(dict1.values()) # Values\n",
    "list(dict1.keys()) # Keys \n",
    "\n",
    "\n",
    "## Creating dicts from lists or using dict comprehension\n",
    "## from lists -> use zip \n",
    "dict1 = dict(zip(range(5), reversed(range(5)))) # @note: giving a tuple of zipped values inside of dict \n",
    "\n",
    "## W/ dict comprehension \n",
    "## Example of dict, w/ key being first letter and value list of corresponding words that start with letter\n",
    "names = ['anna', 'annie', 'sofi']\n",
    "by_letter = {}\n",
    "for name in names: \n",
    "    by_letter.setdefault(name[0], []).append(name)\n",
    "\n",
    "## Alternatively, using defaultdict from Collections\n",
    "from collections import defaultdict\n",
    "by_letter = defaultdict(list)\n",
    "for name in names: \n",
    "    by_letter[name[0]].append(name)\n",
    "    \n",
    "\n",
    "## @important @note: \n",
    "## Keys must be immutable objects - to check if object is imm. use hash() function\n",
    "hash('str') # returns hash value \n",
    "## hash([1,2,3]) Will fail -> list is mutable. Can instead convert to tuple. \n",
    "\n",
    "## Example of dict comprehension - have strings and want to create lookup table of each value \n",
    "names = ['a', 'abc', 'def','zzz']\n",
    "dict1 = {val: index for index,val in enumerate(names)}\n",
    "dict1"
   ]
  },
  {
   "cell_type": "markdown",
   "metadata": {},
   "source": [
    "## Errors and Exception Handling"
   ]
  },
  {
   "cell_type": "code",
   "execution_count": null,
   "metadata": {
    "collapsed": true
   },
   "outputs": [],
   "source": []
  }
 ],
 "metadata": {
  "kernelspec": {
   "display_name": "Python 3",
   "language": "python",
   "name": "python3"
  },
  "language_info": {
   "codemirror_mode": {
    "name": "ipython",
    "version": 3
   },
   "file_extension": ".py",
   "mimetype": "text/x-python",
   "name": "python",
   "nbconvert_exporter": "python",
   "pygments_lexer": "ipython3",
   "version": "3.6.2"
  }
 },
 "nbformat": 4,
 "nbformat_minor": 2
}
