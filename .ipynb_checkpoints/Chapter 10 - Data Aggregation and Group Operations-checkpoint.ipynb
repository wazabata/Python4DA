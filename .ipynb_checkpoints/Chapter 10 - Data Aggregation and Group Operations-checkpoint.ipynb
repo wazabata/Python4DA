{
 "cells": [
  {
   "cell_type": "code",
   "execution_count": 3,
   "metadata": {
    "collapsed": true
   },
   "outputs": [],
   "source": [
    "import numpy as np \n",
    "import pandas as pd "
   ]
  },
  {
   "cell_type": "markdown",
   "metadata": {},
   "source": [
    "## GroupBy "
   ]
  },
  {
   "cell_type": "code",
   "execution_count": 30,
   "metadata": {},
   "outputs": [
    {
     "name": "stdout",
     "output_type": "stream",
     "text": [
      "Name:  a\n",
      "Group:\n",
      "       data1     data2 key1 key2\n",
      "0  0.682831  0.960770    a  one\n",
      "1 -0.186969  0.570887    a  two\n",
      "4  1.229526 -0.128922    a  one\n",
      "Name:  b\n",
      "Group:\n",
      "       data1     data2 key1 key2\n",
      "2  0.180510 -0.916062    b  one\n",
      "3 -0.152176 -0.563717    b  two\n"
     ]
    },
    {
     "data": {
      "text/html": [
       "<div>\n",
       "<style>\n",
       "    .dataframe thead tr:only-child th {\n",
       "        text-align: right;\n",
       "    }\n",
       "\n",
       "    .dataframe thead th {\n",
       "        text-align: left;\n",
       "    }\n",
       "\n",
       "    .dataframe tbody tr th {\n",
       "        vertical-align: top;\n",
       "    }\n",
       "</style>\n",
       "<table border=\"1\" class=\"dataframe\">\n",
       "  <thead>\n",
       "    <tr style=\"text-align: right;\">\n",
       "      <th></th>\n",
       "      <th>a</th>\n",
       "      <th>b</th>\n",
       "      <th>c</th>\n",
       "    </tr>\n",
       "  </thead>\n",
       "  <tbody>\n",
       "  </tbody>\n",
       "</table>\n",
       "</div>"
      ],
      "text/plain": [
       "Empty DataFrame\n",
       "Columns: [a, b, c]\n",
       "Index: []"
      ]
     },
     "execution_count": 30,
     "metadata": {},
     "output_type": "execute_result"
    }
   ],
   "source": [
    "## Mechanics: \n",
    "\n",
    "df = pd.DataFrame({'key1' : ['a', 'a', 'b', 'b', 'a'],\n",
    "    'key2' : ['one', 'two', 'one', 'two', 'one'],\n",
    "    'data1' : np.random.randn(5),\n",
    "    'data2' : np.random.randn(5)})\n",
    "\n",
    "## Group by: \n",
    "grouped = df['data1'].groupby(df['key1'])\n",
    "grouped.mean() # Df now indexed by the group key \n",
    "\n",
    "## What if don't provide column: \n",
    "df.groupby(df.key1).mean() # Will return mean for all appropriate values (no col returned for categorical / strings)\n",
    "\n",
    "## Don't need to write df.groupby(df[<col name>]) -> if col in df, just pass col name \n",
    "df.groupby('key1').mean()\n",
    "\n",
    "\n",
    "## Iteration in groupby \n",
    "## pd's groupby supports iteration, will generate sequence of 2 tuples w/ group name and actual group:\n",
    "for name, group in df.groupby('key1'):\n",
    "    print(\"Name: \",name)\n",
    "    print(\"Group:\\n\", group)\n",
    "\n",
    "    \n",
    "list(df.groupby('key1')) ## Returns a list of tuples (with key and group) --> can transform to dict easily \n",
    "\n",
    "## Selecting cols or subsets of cols \n",
    "## What's the diff between following: \n",
    "df.groupby('key1')['data1']\n",
    "df['data1'].groupby(df['key1']) # Same, but because did subsetting before and type(df['data1']) is Series ..\n",
    "                                # need to specify df in groupby argument. \n",
    "    \n",
    "## Using dicts and series for mappings \n",
    "## Quick way to map and group in one step: \n",
    "ex = pd.DataFrame(np.random.randn(5,3), columns = ['a', 'b','c'])\n",
    "mapping = {'a':'Ar', 'b':'Blue', 'c':'CA'}\n",
    "ex.groupby(mapping, axis = 1).sum()\n",
    "\n"
   ]
  },
  {
   "cell_type": "code",
   "execution_count": null,
   "metadata": {
    "collapsed": true
   },
   "outputs": [],
   "source": []
  }
 ],
 "metadata": {
  "kernelspec": {
   "display_name": "Python 3",
   "language": "python",
   "name": "python3"
  },
  "language_info": {
   "codemirror_mode": {
    "name": "ipython",
    "version": 3
   },
   "file_extension": ".py",
   "mimetype": "text/x-python",
   "name": "python",
   "nbconvert_exporter": "python",
   "pygments_lexer": "ipython3",
   "version": "3.6.2"
  }
 },
 "nbformat": 4,
 "nbformat_minor": 2
}
