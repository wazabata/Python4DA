{
 "cells": [
  {
   "cell_type": "markdown",
   "metadata": {},
   "source": [
    "## Hierarchical Indexing"
   ]
  },
  {
   "cell_type": "code",
   "execution_count": 1,
   "metadata": {
    "collapsed": true
   },
   "outputs": [],
   "source": [
    "import numpy as np \n",
    "import pandas as pd "
   ]
  },
  {
   "cell_type": "code",
   "execution_count": null,
   "metadata": {
    "collapsed": true
   },
   "outputs": [],
   "source": [
    "## Multi-indexing \n",
    "data = pd.DataFrame([[1,2],[3,4],[5,6],[7,8],[9,10]],\n",
    "                   index = [[1,1,2,2,3],\n",
    "                            ['a','b','c','d','e']],\n",
    "                   columns = ['c1', 'c2'])\n",
    "data\n",
    "data.loc[1,'a'] # But how do I select two levels + col? \n",
    "data.loc[1,'a'].c1 # Ok \n",
    "\n",
    "## Selection of an inner level does not work for me though \n",
    "data.c1.loc[:,'a'] # have to decompose to series (type(data.c1) returns series) to enter inner index\n",
    "\n",
    "data.unstack()\n",
    "\n",
    "## Summary stats by level\n",
    "## Uses pandas group by operations \n",
    "frame = pd.DataFrame(np.arange(12).reshape((4, 3)),index=[['a', 'a', 'b', 'b'], [1, 2, 1, 2]],\n",
    "    columns=[['Ohio', 'Ohio', 'Colorado'],\n",
    "    ['Green', 'Red', 'Green']])\n",
    "frame.sum(level=0, axis = 1) # Level is an integer, not a character matching the index\n",
    "\n",
    "\n",
    "## Indexing using a dataframe's columns \n",
    "frame = pd.DataFrame({'a': range(7), 'b': range(7, 0, -1),\n",
    "    'c': ['one', 'one', 'one', 'two', 'two',\n",
    "    'two', 'two'],\n",
    "    'd':[0,1,2,0,1,2,3]})\n",
    "\n",
    "frame.set_index(['c', 'd']) # Columns are removed by default - with drop argument "
   ]
  },
  {
   "cell_type": "markdown",
   "metadata": {},
   "source": [
    "## Combining and Merging Datasets \n"
   ]
  },
  {
   "cell_type": "code",
   "execution_count": 68,
   "metadata": {},
   "outputs": [
    {
     "data": {
      "text/html": [
       "<div>\n",
       "<style>\n",
       "    .dataframe thead tr:only-child th {\n",
       "        text-align: right;\n",
       "    }\n",
       "\n",
       "    .dataframe thead th {\n",
       "        text-align: left;\n",
       "    }\n",
       "\n",
       "    .dataframe tbody tr th {\n",
       "        vertical-align: top;\n",
       "    }\n",
       "</style>\n",
       "<table border=\"1\" class=\"dataframe\">\n",
       "  <thead>\n",
       "    <tr>\n",
       "      <th></th>\n",
       "      <th colspan=\"2\" halign=\"left\">l1</th>\n",
       "      <th colspan=\"2\" halign=\"left\">l2</th>\n",
       "    </tr>\n",
       "    <tr>\n",
       "      <th></th>\n",
       "      <th>one</th>\n",
       "      <th>two</th>\n",
       "      <th>three</th>\n",
       "      <th>four</th>\n",
       "    </tr>\n",
       "  </thead>\n",
       "  <tbody>\n",
       "    <tr>\n",
       "      <th>a</th>\n",
       "      <td>0</td>\n",
       "      <td>1</td>\n",
       "      <td>5.0</td>\n",
       "      <td>6.0</td>\n",
       "    </tr>\n",
       "    <tr>\n",
       "      <th>b</th>\n",
       "      <td>2</td>\n",
       "      <td>3</td>\n",
       "      <td>NaN</td>\n",
       "      <td>NaN</td>\n",
       "    </tr>\n",
       "    <tr>\n",
       "      <th>c</th>\n",
       "      <td>4</td>\n",
       "      <td>5</td>\n",
       "      <td>7.0</td>\n",
       "      <td>8.0</td>\n",
       "    </tr>\n",
       "  </tbody>\n",
       "</table>\n",
       "</div>"
      ],
      "text/plain": [
       "   l1        l2     \n",
       "  one two three four\n",
       "a   0   1   5.0  6.0\n",
       "b   2   3   NaN  NaN\n",
       "c   4   5   7.0  8.0"
      ]
     },
     "execution_count": 68,
     "metadata": {},
     "output_type": "execute_result"
    }
   ],
   "source": [
    "df1 = pd.DataFrame({'key': ['b', 'b', 'a', 'c', 'a', 'a', 'b'],\n",
    "                    'data1': range(7)})\n",
    "df2 = pd.DataFrame({'key': ['a', 'b', 'd'],\n",
    "    'data2': range(3)})\n",
    "\n",
    "pd.merge(df1, df2, on='key').reindex(columns = ['key', 'data1', 'data2'])\n",
    "\n",
    "## Can use left_on, right_on args if the key column name is different. \n",
    "## @note: Can also merge using an index - using the left_index or right_index args of merge or join() function\n",
    "\n",
    "## Concatinating along an axis\n",
    "arr = np.arange(12).reshape((3,4)) #@note: don't forget, reshapre takes tuple. - takes int or tuple of ints. \n",
    "# arr2 = np.arange(12).reshape(3,4) Seems to be the same though... \n",
    "\n",
    "## How to concat:\n",
    "## - combine using elements in axes or shared intersection values \n",
    "## - does concatenated data need to be identified? \n",
    "## - Do we preserve concatenation axis? \n",
    "\n",
    "s1 = pd.Series([0,1], index = ['a','b'])\n",
    "s2 = pd.Series([2,3,4], index = ['c','d','e'])\n",
    "s3 = pd.Series([5,6], index = ['f','g'])\n",
    "\n",
    "pd.concat([s1,s2,s3])  # regular concat, like rbind\n",
    "pd.concat([s1,s2,s3], axis = 1) # cbind - USING INDEX! \n",
    "\n",
    "s4 = pd.concat([s1, s3])\n",
    "pd.concat([s1, s4], axis=1) # Without specifying join axis \n",
    "pd.concat([s1, s4], axis=1, join_axes=[['a', 'c', 'b', 'e']]) # Spec. join axis - will only return rrows w/ ind that was spec\n",
    "\n",
    "## How to identify concatenated pieces in the result - use hierarchical indexing! \n",
    "result = pd.concat([s1,s2,s3], axis = 0, keys=['uno','dos','tres'])\n",
    "result.unstack()\n",
    "\n",
    "## Now concat dataframes: \n",
    "df1 = pd.DataFrame(np.arange(6).reshape(3, 2), index=['a', 'b', 'c'],\n",
    "                   columns=['one', 'two'])\n",
    "df2 = pd.DataFrame(5 + np.arange(4).reshape(2, 2), index=['a', 'c'],\n",
    "                   columns=['three', 'four'])\n",
    "pd.concat([df1, df2], axis = 1, keys = ['l1','l2'])\n",
    "\n",
    "## Can also pass dict, with key: value pair being new indices and dataframes respectively \n",
    "pd.concat({'l1':df1, 'l2':df2}, axis = 1)\n",
    "\n"
   ]
  },
  {
   "cell_type": "markdown",
   "metadata": {},
   "source": [
    "## Reshaping"
   ]
  },
  {
   "cell_type": "code",
   "execution_count": 6,
   "metadata": {},
   "outputs": [],
   "source": [
    "## Stacking and unstacking - reshaping with hier. indexing \n",
    "data = pd.DataFrame(np.arange(6).reshape((2,3)), \n",
    "                   index = pd.Index(['OH', 'CO'], name = 'state'),\n",
    "                   columns = pd.Index(['one', 'two', 'three'], name = 'number'))\n",
    "result = data.stack()\n",
    "result.unstack('state') # Now state is in the columns. \n",
    "\n",
    "## Pivoting long to wide - with pivot \n",
    "## Melting wide to long - with melt \n"
   ]
  }
 ],
 "metadata": {
  "kernelspec": {
   "display_name": "Python 3",
   "language": "python",
   "name": "python3"
  },
  "language_info": {
   "codemirror_mode": {
    "name": "ipython",
    "version": 3
   },
   "file_extension": ".py",
   "mimetype": "text/x-python",
   "name": "python",
   "nbconvert_exporter": "python",
   "pygments_lexer": "ipython3",
   "version": "3.6.2"
  }
 },
 "nbformat": 4,
 "nbformat_minor": 2
}
